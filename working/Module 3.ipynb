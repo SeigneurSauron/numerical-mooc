{
 "cells": [
  {
   "cell_type": "code",
   "execution_count": 14,
   "metadata": {
    "collapsed": true
   },
   "outputs": [],
   "source": [
    "\n",
    "import numpy                       \n",
    "from matplotlib import pyplot                 \n",
    "%matplotlib inline\n",
    "from matplotlib import rcParams\n",
    "rcParams['font.family'] = 'serif'\n",
    "rcParams['font.size'] = 16"
   ]
  },
  {
   "cell_type": "code",
   "execution_count": 15,
   "metadata": {
    "collapsed": true
   },
   "outputs": [],
   "source": [
    "nx = 81\n",
    "dx = 0.25  \n",
    "dt = .0002  \n",
    "T=.01\n",
    "nt=int(T/dt)\n",
    "gamma=1.4"
   ]
  },
  {
   "cell_type": "code",
   "execution_count": 16,
   "metadata": {
    "collapsed": false
   },
   "outputs": [],
   "source": [
    "x=numpy.linspace(-10,10,2*nx-1)"
   ]
  },
  {
   "cell_type": "code",
   "execution_count": 17,
   "metadata": {
    "collapsed": false
   },
   "outputs": [
    {
     "name": "stdout",
     "output_type": "stream",
     "text": [
      "[-10.     -9.875  -9.75   -9.625  -9.5    -9.375  -9.25   -9.125  -9.\n",
      "  -8.875  -8.75   -8.625  -8.5    -8.375  -8.25   -8.125  -8.     -7.875\n",
      "  -7.75   -7.625  -7.5    -7.375  -7.25   -7.125  -7.     -6.875  -6.75\n",
      "  -6.625  -6.5    -6.375  -6.25   -6.125  -6.     -5.875  -5.75   -5.625\n",
      "  -5.5    -5.375  -5.25   -5.125  -5.     -4.875  -4.75   -4.625  -4.5\n",
      "  -4.375  -4.25   -4.125  -4.     -3.875  -3.75   -3.625  -3.5    -3.375\n",
      "  -3.25   -3.125  -3.     -2.875  -2.75   -2.625  -2.5    -2.375  -2.25\n",
      "  -2.125  -2.     -1.875  -1.75   -1.625  -1.5    -1.375  -1.25   -1.125\n",
      "  -1.     -0.875  -0.75   -0.625  -0.5    -0.375  -0.25   -0.125   0.\n",
      "   0.125   0.25    0.375   0.5     0.625   0.75    0.875   1.      1.125\n",
      "   1.25    1.375   1.5     1.625   1.75    1.875   2.      2.125   2.25\n",
      "   2.375   2.5     2.625   2.75    2.875   3.      3.125   3.25    3.375\n",
      "   3.5     3.625   3.75    3.875   4.      4.125   4.25    4.375   4.5\n",
      "   4.625   4.75    4.875   5.      5.125   5.25    5.375   5.5     5.625\n",
      "   5.75    5.875   6.      6.125   6.25    6.375   6.5     6.625   6.75\n",
      "   6.875   7.      7.125   7.25    7.375   7.5     7.625   7.75    7.875\n",
      "   8.      8.125   8.25    8.375   8.5     8.625   8.75    8.875   9.\n",
      "   9.125   9.25    9.375   9.5     9.625   9.75    9.875  10.   ]\n"
     ]
    }
   ],
   "source": [
    "print(x)"
   ]
  },
  {
   "cell_type": "code",
   "execution_count": 18,
   "metadata": {
    "collapsed": true
   },
   "outputs": [],
   "source": [
    "rho=numpy.zeros(2*nx-1)\n",
    "u=numpy.zeros(2*nx-1)\n",
    "p=numpy.zeros(2*nx-1)\n",
    "U1=numpy.zeros(2*nx-1)\n",
    "U2=numpy.zeros(2*nx-1)\n",
    "U3=numpy.zeros(2*nx-1)\n",
    "F1=numpy.zeros(2*nx-1)\n",
    "F2=numpy.zeros(2*nx-1)\n",
    "F3=numpy.zeros(2*nx-1)"
   ]
  },
  {
   "cell_type": "code",
   "execution_count": 19,
   "metadata": {
    "collapsed": false
   },
   "outputs": [],
   "source": [
    "rho[0:int((2*nx-1)/2)]=1   # conditions initiales\n",
    "rho[int(((2*nx-1)/2)):int(2*nx-1)]=.125\n",
    "u[0:int((2*nx-1)/2)]=0\n",
    "u[int(((2*nx-1)/2)):int(2*nx-1)]=0\n",
    "p[0:int((2*nx-1)/2)]=100000\n",
    "p[int(((2*nx-1)/2)):int(2*nx-1)]=10000"
   ]
  },
  {
   "cell_type": "code",
   "execution_count": 21,
   "metadata": {
    "collapsed": false
   },
   "outputs": [],
   "source": [
    "for i in range(2*nx-1):\n",
    "    U1[i]=rho[i]\n",
    "    U2[i]=rho[i]*u[i]\n",
    "    U3[i]=rho[i]*((p[i]/((gamma-1)*rho[i]))+0.5*(u[i]**2))\n",
    "    F1[i]=U2[i]\n",
    "    F2[i]=(U2[i]**2/U1[i])+(gamma-1)*(U3[i]-0.5*(U2[i]**2/U1[i]))\n",
    "    F3[i]=(U3[i]+(gamma-1)*(U3[i]-0.5*(U2[i]**2/U1[i])))*(U2[i]/U1[i])\n",
    "    \n",
    "    "
   ]
  },
  {
   "cell_type": "code",
   "execution_count": 22,
   "metadata": {
    "collapsed": false
   },
   "outputs": [],
   "source": [
    "for n in range(nt):\n",
    "    for i in range(0,2*nx-2,2):\n",
    "        U1[i+1]=(0.5*(U1[i+2]+U1[i]))-(dt/(2*dx))*(F1[i+2]-F1[i])\n",
    "        U2[i+1]=(0.5*(U2[i+2]+U2[i]))-(dt/(2*dx))*(F2[i+2]-F2[i])\n",
    "        U3[i+1]=(0.5*(U3[i+2]+U3[i]))-(dt/(2*dx))*(F3[i+2]-F3[i])\n",
    "        \n",
    "    for i in range(0,2*nx-2,2):    \n",
    "        F1[i+1]=U2[i+1]\n",
    "        F2[i+1]=(U2[i+1]**2/U1[i+1])+(gamma-1)*(U3[i+1]-0.5*(U2[i+1]**2/U1[i+1]))\n",
    "        F3[i+1]=(U3[i+1]+(gamma-1)*(U3[i+1]-0.5*(U2[i+1]**2/U1[i+1])))*(U2[i+1]/U1[i+1])\n",
    "    \n",
    "    for i in range(2,2*nx-2,2):\n",
    "        U1[i]=U1[i]-(dt/dx)*(F1[i+1]-F1[i-1])\n",
    "        U2[i]=U2[i]-(dt/dx)*(F2[i+1]-F2[i-1])\n",
    "        U3[i]=U3[i]-(dt/dx)*(F3[i+1]-F3[i-1])\n",
    "    \n",
    "    for i in range(0,2*nx,2):    \n",
    "        F1[i]=U2[i]\n",
    "        F2[i]=(U2[i]**2/U1[i])+(gamma-1)*(U3[i]-0.5*(U2[i]**2/U1[i]))\n",
    "        F3[i]=(U3[i]+(gamma-1)*(U3[i]-0.5*(U2[i]**2/U1[i])))*(U2[i]/U1[i])\n",
    "    "
   ]
  },
  {
   "cell_type": "code",
   "execution_count": 23,
   "metadata": {
    "collapsed": true
   },
   "outputs": [],
   "source": [
    "def J(t):\n",
    "    t2=t+10\n",
    "    t3=t2/0.125\n",
    "    return t3"
   ]
  },
  {
   "cell_type": "code",
   "execution_count": 24,
   "metadata": {
    "collapsed": false
   },
   "outputs": [
    {
     "name": "stdout",
     "output_type": "stream",
     "text": [
      "0.374691402648\n"
     ]
    },
    {
     "name": "stderr",
     "output_type": "stream",
     "text": [
      "C:\\Users\\sacha\\Anaconda3\\lib\\site-packages\\ipykernel\\__main__.py:1: VisibleDeprecationWarning: using a non-integer number instead of an integer will result in an error in the future\n",
      "  if __name__ == '__main__':\n"
     ]
    }
   ],
   "source": [
    "print(U1[J(2.5)])"
   ]
  },
  {
   "cell_type": "code",
   "execution_count": null,
   "metadata": {
    "collapsed": true
   },
   "outputs": [],
   "source": []
  },
  {
   "cell_type": "code",
   "execution_count": null,
   "metadata": {
    "collapsed": true
   },
   "outputs": [],
   "source": []
  }
 ],
 "metadata": {
  "anaconda-cloud": {},
  "kernelspec": {
   "display_name": "Python [default]",
   "language": "python",
   "name": "python3"
  },
  "language_info": {
   "codemirror_mode": {
    "name": "ipython",
    "version": 3
   },
   "file_extension": ".py",
   "mimetype": "text/x-python",
   "name": "python",
   "nbconvert_exporter": "python",
   "pygments_lexer": "ipython3",
   "version": "3.5.2"
  }
 },
 "nbformat": 4,
 "nbformat_minor": 1
}
